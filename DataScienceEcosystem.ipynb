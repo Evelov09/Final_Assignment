{
 "cells": [
  {
   "cell_type": "markdown",
   "id": "4895c0b7",
   "metadata": {},
   "source": [
    "# Data Science Tools and Ecosystem"
   ]
  },
  {
   "cell_type": "markdown",
   "id": "d9f02fdc",
   "metadata": {},
   "source": [
    "In this notebook, Data Science Tools and Ecosystems are summarized."
   ]
  },
  {
   "cell_type": "markdown",
   "id": "843c9f68",
   "metadata": {},
   "source": [
    "**Objectives:**\n",
    "- List popular languajes for Data Science.\n",
    "- List common libraries for Data Science.\n",
    "- List common Data Science tools.\n",
    "- List examples of arithmetic epressions with Python."
   ]
  },
  {
   "cell_type": "markdown",
   "id": "a4ec1291",
   "metadata": {},
   "source": [
    "### Some of the popular languages that Data Scientist use are:\n",
    "\n",
    "1. Pyhton\n",
    "2. R\n",
    "3. SQL\n",
    "4. Java\n",
    "5. Scala"
   ]
  },
  {
   "cell_type": "markdown",
   "id": "b3fe6109",
   "metadata": {},
   "source": [
    "### Some of the commonly used libraries used by Data Scientists include:\n",
    "\n",
    "- #### Python\n",
    "    - Numphy \n",
    "    - Pandas\n",
    "    - SciPy\n",
    "    - Matplotlib\n",
    "    - Seaborn\n",
    "    - TensorFlow\n",
    "    - Pytorch\n",
    "    - Keras\n",
    "    - Scikit-learn\n",
    "- #### R\n",
    "    - dplyr\n",
    "    - stringr\n",
    "    - ggplot\n",
    "    - caret\n",
    "    \n",
    "- #### Scala\n",
    "    - Vegas\n",
    "    - Big DL"
   ]
  },
  {
   "cell_type": "markdown",
   "id": "80c390d8",
   "metadata": {},
   "source": [
    "| Data Science Tools |\n",
    "--------------------\n",
    "|IBM Watson Studio|\n",
    "|Jupyter Notebooks|\n",
    "|R Studio|\n",
    "|Spyder|\n"
   ]
  },
  {
   "cell_type": "markdown",
   "id": "3b3f6cd2",
   "metadata": {},
   "source": [
    "### Below are a few examples of evaluating arithmetic expressions in Python ###\n"
   ]
  },
  {
   "cell_type": "code",
   "execution_count": 5,
   "id": "8aff1827",
   "metadata": {},
   "outputs": [
    {
     "data": {
      "text/plain": [
       "17"
      ]
     },
     "execution_count": 5,
     "metadata": {},
     "output_type": "execute_result"
    }
   ],
   "source": [
    "#This is a simple arithmetic expression to multiply then add integers:\n",
    "\n",
    "(3*4)+5"
   ]
  },
  {
   "cell_type": "code",
   "execution_count": 6,
   "id": "4b4269c1",
   "metadata": {},
   "outputs": [
    {
     "data": {
      "text/plain": [
       "3.3333333333333335"
      ]
     },
     "execution_count": 6,
     "metadata": {},
     "output_type": "execute_result"
    }
   ],
   "source": [
    "#This will convert 200 minutes to hours by dividing by 60\n",
    "\n",
    "200/60"
   ]
  },
  {
   "cell_type": "markdown",
   "id": "5e0209b2",
   "metadata": {},
   "source": [
    "## Author\n",
    "Evelyn L."
   ]
  },
  {
   "cell_type": "code",
   "execution_count": null,
   "id": "43ea40ce",
   "metadata": {},
   "outputs": [],
   "source": []
  }
 ],
 "metadata": {
  "kernelspec": {
   "display_name": "Python 3 (ipykernel)",
   "language": "python",
   "name": "python3"
  },
  "language_info": {
   "codemirror_mode": {
    "name": "ipython",
    "version": 3
   },
   "file_extension": ".py",
   "mimetype": "text/x-python",
   "name": "python",
   "nbconvert_exporter": "python",
   "pygments_lexer": "ipython3",
   "version": "3.11.3"
  }
 },
 "nbformat": 4,
 "nbformat_minor": 5
}
